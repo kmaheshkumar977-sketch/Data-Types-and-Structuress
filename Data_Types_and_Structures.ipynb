{
  "nbformat": 4,
  "nbformat_minor": 0,
  "metadata": {
    "colab": {
      "provenance": []
    },
    "kernelspec": {
      "name": "python3",
      "display_name": "Python 3"
    },
    "language_info": {
      "name": "python"
    }
  },
  "cells": [
    {
      "cell_type": "markdown",
      "source": [
        "# **Theory**"
      ],
      "metadata": {
        "id": "Yny2nPdRc572"
      }
    },
    {
      "cell_type": "markdown",
      "source": [
        "1.What are data structures, and why are they important\n",
        "  - Data structures are ways of organizing and storing data so that they can be used efficiently.\n",
        "In Python, data structures can be built-in (already provided) or user-defined (you create your own).\n",
        "  - Data Structures Important in Python?\n",
        "     - Efficiency – They allow faster searching, sorting, and data manipulation.\n",
        "     - Memory Management – Store data in a way that saves space.\n",
        "     - Data Organization – Make code more readable and structured.\n",
        "     - Problem Solving – Many algorithms (like searching, graph traversal, etc.) rely on proper data structures.\n",
        "     - Flexibility – Python’s built-in structures make it easy to handle both simple and complex data."
      ],
      "metadata": {
        "id": "ZskemnU2dCKF"
      }
    },
    {
      "cell_type": "markdown",
      "source": [
        "2.Explain the difference between mutable and immutable data types with examples\n",
        "   - Mutable Data Types\n",
        "     - Can be changed (modified) after creation.\n",
        "     - You can add, remove, or update elements without creating a new object.\n",
        "     - Examples in Python: list, set, dict\n",
        "   - Immutable Data Types\n",
        "     - Cannot be changed after creation.\n",
        "     - If you try to modify, Python creates a new object.\n",
        "     - Examples in Python: int, float, string, tuple, frozenset  "
      ],
      "metadata": {
        "id": "ozlss5TYd9Hc"
      }
    },
    {
      "cell_type": "code",
      "execution_count": null,
      "metadata": {
        "colab": {
          "base_uri": "https://localhost:8080/"
        },
        "id": "UwrYTzDLcxEh",
        "outputId": "3120f55c-2398-4c55-f065-c5585f064376"
      },
      "outputs": [
        {
          "output_type": "stream",
          "name": "stdout",
          "text": [
            "Original: [1, 2, 3]\n",
            "Modified: [100, 2, 3, 4]\n"
          ]
        }
      ],
      "source": [
        "#Mutable data type\n",
        "#List is mutable\n",
        "numbers = [1, 2, 3]\n",
        "print(\"Original:\", numbers)\n",
        "numbers[0] = 100   # modifying element\n",
        "numbers.append(4)  # adding element\n",
        "print(\"Modified:\", numbers)\n"
      ]
    },
    {
      "cell_type": "code",
      "source": [
        "#Immutable data type\n",
        "# String is immutable\n",
        "text = \"Hello\"\n",
        "print(\"Original:\", text)\n",
        "text = text + \" World\"   # creates new string\n",
        "print(\"Modified:\", text)\n"
      ],
      "metadata": {
        "colab": {
          "base_uri": "https://localhost:8080/"
        },
        "id": "MOb2RnIIfHP1",
        "outputId": "f9dd2d62-f961-4379-ce8f-84eacdf85036"
      },
      "execution_count": null,
      "outputs": [
        {
          "output_type": "stream",
          "name": "stdout",
          "text": [
            "Original: Hello\n",
            "Modified: Hello World\n"
          ]
        }
      ]
    },
    {
      "cell_type": "markdown",
      "source": [
        "3.What are the main differences between lists and tuples in Python\n",
        "  - Mutability\n",
        "     - A list is mutable, which means you can change, add, or remove elements after it is created.\n",
        "     - A tuple is immutable, which means once created, it cannot be modified.\n",
        "  - Performance\n",
        "     - Lists are a little slower because Python keeps them flexible (allowing changes).\n",
        "    - Tuples are faster because they are fixed in size and cannot be changed.\n",
        "  - Methods\n",
        "     - Lists have many built-in methods like append(), remove(), pop(), etc.\n",
        "     - Tuples have very few methods, only count() and index().\n",
        "  - Use Cases\n",
        "      - Use a list when you need a collection of items that may change during the program (like a shopping cart).\n",
        "      - Use a tuple when the data should remain constant (like coordinates, days of the week).       "
      ],
      "metadata": {
        "id": "isH6Wh26gCm2"
      }
    },
    {
      "cell_type": "code",
      "source": [
        "# List example (mutable)\n",
        "fruits = [\"apple\", \"banana\", \"mango\"]\n",
        "fruits.append(\"orange\")   # works fine\n",
        "fruits[0] = \"grape\"       # modifying element\n",
        "print(fruits)  # ['grape', 'banana', 'mango', 'orange']\n",
        "\n",
        "# Tuple example (immutable)\n",
        "colors = (\"red\", \"green\", \"blue\")\n",
        "# colors[0] = \"yellow\"  # ❌ Error: Tuples can't be changed\n",
        "print(colors)  # ('red', 'green', 'blue')\n"
      ],
      "metadata": {
        "colab": {
          "base_uri": "https://localhost:8080/"
        },
        "id": "W_Z3bdaXf7eO",
        "outputId": "0e11fd69-b726-40c2-f27a-2c51904d75ac"
      },
      "execution_count": null,
      "outputs": [
        {
          "output_type": "stream",
          "name": "stdout",
          "text": [
            "['grape', 'banana', 'mango', 'orange']\n",
            "('red', 'green', 'blue')\n"
          ]
        }
      ]
    },
    {
      "cell_type": "markdown",
      "source": [
        "4.Describe how dictionaries store data\n",
        "  - A dictionary stores data in the form of key–value pairs.\n",
        "    - The key is like a label or name.\n",
        "    - The value is the data associated with that key.\n",
        "    - Every key must be unique, but values can repeat.\n",
        "    - The syntax uses curly braces {}.\n"
      ],
      "metadata": {
        "id": "lONNK7d4h2w6"
      }
    },
    {
      "cell_type": "code",
      "source": [
        "#Example\n",
        "# Creating a dictionary\n",
        "student = {\n",
        "    \"name\": \"Mahesh\",\n",
        "    \"age\": 21,\n",
        "    \"course\": \"Python\"\n",
        "}\n",
        "\n",
        "# Accessing values using keys\n",
        "print(\"Name:\", student[\"name\"])\n",
        "print(\"Age:\", student[\"age\"])\n",
        "print(\"Course:\", student[\"course\"])\n",
        "\n",
        "# Adding new data\n",
        "student[\"city\"] = \"Chennai\"\n",
        "print(\"After adding city:\", student)\n",
        "\n",
        "# Updating existing data\n",
        "student[\"age\"] = 22\n",
        "print(\"After updating age:\", student)\n",
        "\n",
        "# Removing a key-value pair\n",
        "del student[\"course\"]\n",
        "print(\"After removing course:\", student)\n"
      ],
      "metadata": {
        "colab": {
          "base_uri": "https://localhost:8080/"
        },
        "id": "d_y64blwiUX6",
        "outputId": "8f34ba2f-8264-4974-e7de-ec6be9c35a34"
      },
      "execution_count": null,
      "outputs": [
        {
          "output_type": "stream",
          "name": "stdout",
          "text": [
            "Name: Mahesh\n",
            "Age: 21\n",
            "Course: Python\n",
            "After adding city: {'name': 'Mahesh', 'age': 21, 'course': 'Python', 'city': 'Chennai'}\n",
            "After updating age: {'name': 'Mahesh', 'age': 22, 'course': 'Python', 'city': 'Chennai'}\n",
            "After removing course: {'name': 'Mahesh', 'age': 22, 'city': 'Chennai'}\n"
          ]
        }
      ]
    },
    {
      "cell_type": "markdown",
      "source": [
        "5.Why might you use a set instead of a list in Python\n",
        "  - Reasons to Use a Set Instead of a List\n",
        "    - To Remove Duplicates Automatically\n",
        "      - A set does not allow duplicate values.\n",
        "       - If you add the same element more than once, it will only be stored once.\n",
        "     - For Fast Membership Testing\n",
        "       - Checking if an item exists in a set is much faster than in a list, because sets use hashing internally.  \n",
        "     - For Mathematical Operations\n",
        "       - Sets allow easy operations like union, intersection, and difference — which lists don’t support directly.\n",
        "     - When Order Doesn’t Matter\n",
        "       - Lists keep elements in order, but sets are unordered.\n",
        "       - If you don’t care about order and just need unique items, a set is better.   \n",
        "       "
      ],
      "metadata": {
        "id": "fwwqGcFfk30X"
      }
    },
    {
      "cell_type": "markdown",
      "source": [
        "6.What is a string in Python, and how is it different from a list\n",
        "  - What is a String in Python\n",
        "    - A string is a sequence of characters enclosed in single quotes ', double quotes \", or even triple quotes ''' / \"\"\".\n",
        "It is used to store text.\n",
        "  - How Strings Differ from Lists\n",
        "    - Data Type of Elements\n",
        "     - A string can only contain characters (letters, numbers, symbols).\n",
        "     - A list can hold different data types (numbers, strings, even other lists).\n",
        "    - Mutability\n",
        "      - Strings are immutable → once created, you cannot change them directly.\n",
        "      - Lists are mutable → you can add, remove, or modify elements.\n",
        "    - Syntax\n",
        "      - String: written inside quotes.\n",
        "      - List: written inside square brackets [].  "
      ],
      "metadata": {
        "id": "3i2j7RPymPyY"
      }
    },
    {
      "cell_type": "markdown",
      "source": [
        "7.How do tuples ensure data integrity in Python\n",
        "  - Tuples and Data Integrity in Python\n",
        "    - Data integrity means keeping data safe from unintended changes.\n",
        "Tuples help achieve this because they are immutable — once you create a tuple, its contents cannot be modified.\n",
        "   - How Tuples Ensure Data Integrity\n",
        "     - Immutability\n",
        "         - You can’t change, add, or remove items in a tuple after creation.\n",
        "         - This prevents accidental changes to critical data.\n",
        "  - Reliable for Constants\n",
        "      - If you have values that should never change (like days of the week, RGB color codes, database connection settings), tuples guarantee they stay the same.\n",
        "  - Hashable (Can Be Dictionary Keys / Set Elements)   \n",
        "     - Because tuples are immutable, they can be used as keys in dictionaries or as elements in sets — something lists can’t do.\n",
        "         - This ensures consistent mapping between keys and values."
      ],
      "metadata": {
        "id": "0wTzqf69oF8-"
      }
    },
    {
      "cell_type": "markdown",
      "source": [
        "8.What is a hash table, and how does it relate to dictionaries in Python\n",
        "  - What is a Hash Table?\n",
        "  - A hash table is a data structure that stores data in key–value pairs and allows very fast access.\n",
        "     - It uses a hash function to convert a key into a number (called a hash value).\n",
        "     - That number decides where the value will be stored in memory (like an index in an array).\n",
        "     - When you look up the key later, Python runs the hash function again → jumps straight to the correct spot → fetches the value in almost constant time O(1).\n",
        "  - How Does This Relate to Python Dictionaries?\n",
        "    - A dictionary in Python is implemented using a hash table.\n",
        "    - Each key in a dictionary must be hashable (immutable types like string, int, tuple).\n",
        "    - Each key’s hash value decides where its value is stored in the hash table.\n",
        "    - This makes dictionary lookups, insertions, and deletions very fast.   "
      ],
      "metadata": {
        "id": "0e4_rwE3qJ80"
      }
    },
    {
      "cell_type": "markdown",
      "source": [
        "9.Can lists contain different data types in Python\n",
        "  - Yes, In Python, lists can contain elements of different data types.\n",
        "Unlike some languages where arrays are limited to a single type, Python lists are very flexible. You can mix numbers, strings, booleans, other lists, tuples, dictionaries, and even objects in the same list."
      ],
      "metadata": {
        "id": "rJ31zzTMq5fF"
      }
    },
    {
      "cell_type": "code",
      "source": [
        "#Example\n",
        "mixed_list = [10, \"Python\", 3.14, True, [1, 2, 3], (\"a\", \"b\")]\n",
        "print(mixed_list)\n"
      ],
      "metadata": {
        "colab": {
          "base_uri": "https://localhost:8080/"
        },
        "id": "kwuyFQmqpa7N",
        "outputId": "cc96cc75-dda1-416f-9d2b-cf7800a4247f"
      },
      "execution_count": null,
      "outputs": [
        {
          "output_type": "stream",
          "name": "stdout",
          "text": [
            "[10, 'Python', 3.14, True, [1, 2, 3], ('a', 'b')]\n"
          ]
        }
      ]
    },
    {
      "cell_type": "markdown",
      "source": [
        "10 → integer\n",
        "\"Python\" → string\n",
        "3.14 → float\n",
        "True → boolean\n",
        "[1, 2, 3] → another list\n",
        "(\"a\", \"b\") → a tuple"
      ],
      "metadata": {
        "id": "HiCzKo1RrS0z"
      }
    },
    {
      "cell_type": "markdown",
      "source": [
        "10.Explain why strings are immutable in Python\n",
        "  - Why Strings Are Immutable in Python\n",
        "    - A string in Python is a sequence of characters, like \"Hello\". Immutable means that once a string is created, it cannot be changed. Any modification creates a new string instead of changing the original.\n",
        "  - Memory Efficiency\n",
        "    - Immutable objects can be shared safely. For example, if multiple variables point to the same string, Python doesn’t need to create separate copies.\n",
        "    - This reduces memory usage.  \n",
        "  -  Security & Data Integrity\n",
        "     - Strings are often used for sensitive data (like passwords, identifiers, file paths).\n",
        "     - Immutability ensures that the data cannot be accidentally changed, keeping it reliable and predictable.\n",
        "  - Hashing & Dictionary Keys\n",
        "     - Strings are hashable (can be used as dictionary keys or set elements).\n",
        "    - If strings were mutable, their hash value could change after being used as a key — which would break the dictionary.  "
      ],
      "metadata": {
        "id": "JCXAGBP_rcIb"
      }
    },
    {
      "cell_type": "markdown",
      "source": [
        "11. What advantages do dictionaries offer over lists for certain tasks\n",
        "  - Fast Lookup by Key\n",
        "    - Dictionaries use a hash table internally, so accessing a value by its key is very fast (almost constant time, O(1)).\n",
        "    - Lists require linear search (O(n)) if you want to find an element by value.\n",
        "  - Key-Value Pair Organization\n",
        "    - Lists store ordered elements, but the relationship between data items is not explicit.\n",
        "    - Dictionaries store data as key → value pairs, making it easier to organize and access related data.\n",
        "  - Unique Keys\n",
        "    - Dictionary keys are unique, preventing accidental duplicates.\n",
        "    - Lists allow duplicates, which might cause confusion or errors if uniqueness is required.  \n",
        "  - Flexible Data Access\n",
        "    - You can quickly update, add, or delete items by key in dictionaries.\n",
        "    - Lists require searching for an element before modifying it."
      ],
      "metadata": {
        "id": "8pUgQEhLsIpT"
      }
    },
    {
      "cell_type": "markdown",
      "source": [
        "12.Describe a scenario where using a tuple would be preferable over a list\n",
        "  - Scenario: Storing Fixed Data That Should Not Change\n",
        "     - Suppose you are creating a program that stores the coordinates of a point in 2D space.\n",
        "     - Each point has an x and y value.\n",
        "     - Once a point is created, its coordinates should not change accidentally.\n",
        "     - In this case, using a tuple is preferable over a list because tuples are immutable.\n",
        "  - Other Situations Where Tuples Are Better\n",
        "    - Days of the Week: days = (\"Mon\", \"Tue\", \"Wed\", \"Thu\", \"Fri\", \"Sat\", \"Sun\")\n",
        "    - RGB Color Codes: red = (255, 0, 0)\n",
        "    - Dictionary Keys: Tuples can be used as dictionary keys (lists cannot).   "
      ],
      "metadata": {
        "id": "SRU08e-2s68r"
      }
    },
    {
      "cell_type": "code",
      "source": [
        "# Using a tuple for a point\n",
        "point = (10, 20)\n",
        "# Trying to modify the point will cause an error\n",
        "# point[0] = 15   # TypeError\n",
        "# Accessing coordinates\n",
        "x = point[0]\n",
        "y = point[1]\n",
        "print(\"x:\", x, \"y:\", y)\n",
        "\n"
      ],
      "metadata": {
        "colab": {
          "base_uri": "https://localhost:8080/"
        },
        "id": "ZZ2-04KSrUIS",
        "outputId": "9b3cda4d-906e-4928-9228-2c53113169a2"
      },
      "execution_count": null,
      "outputs": [
        {
          "output_type": "stream",
          "name": "stdout",
          "text": [
            "x: 10 y: 20\n"
          ]
        }
      ]
    },
    {
      "cell_type": "markdown",
      "source": [
        "13.How do sets handle duplicate values in Python\n",
        "  - A set in Python is a collection of unique elements.\n",
        "    - When you try to add duplicate values to a set, Python automatically removes duplicates.\n",
        "    - Sets only store one copy of each unique element."
      ],
      "metadata": {
        "id": "3c9DQ0KEt_eL"
      }
    },
    {
      "cell_type": "code",
      "source": [
        "#Removing Duplicates\n",
        "numbers = [1, 2, 2, 3, 4, 4, 5]\n",
        "unique_numbers = set(numbers)\n",
        "print(unique_numbers)\n"
      ],
      "metadata": {
        "colab": {
          "base_uri": "https://localhost:8080/"
        },
        "id": "cJ3O1ezptVCC",
        "outputId": "2e41f120-b8b4-4d13-a5ef-4278561e400b"
      },
      "execution_count": null,
      "outputs": [
        {
          "output_type": "stream",
          "name": "stdout",
          "text": [
            "{1, 2, 3, 4, 5}\n"
          ]
        }
      ]
    },
    {
      "cell_type": "code",
      "source": [
        "#Adding Duplicates to a Set\n",
        "fruits = {\"apple\", \"banana\", \"mango\"}\n",
        "fruits.add(\"apple\")   # trying to add a duplicate\n",
        "print(fruits)\n"
      ],
      "metadata": {
        "colab": {
          "base_uri": "https://localhost:8080/"
        },
        "id": "FqeodBQ0uYuc",
        "outputId": "4d32df54-2087-4d62-b912-d43aa56ef4ca"
      },
      "execution_count": null,
      "outputs": [
        {
          "output_type": "stream",
          "name": "stdout",
          "text": [
            "{'apple', 'mango', 'banana'}\n"
          ]
        }
      ]
    },
    {
      "cell_type": "markdown",
      "source": [
        "14.How does the “in” keyword work differently for lists and dictionaries\n",
        "  - The in keyword checks whether a value exists inside a container, but how it behaves depends on the type of container.\n",
        "  - Lists\n",
        "    - When used with a list, in checks if a value exists among the elements of the list.\n",
        "    - It searches sequentially (from start to end) until it finds the element.\n",
        "  - Dictionaries\n",
        "    - When used with a dictionary, in checks only the keys, not the values.\n",
        "      \n",
        "    "
      ],
      "metadata": {
        "id": "HPiJ79AVumG5"
      }
    },
    {
      "cell_type": "code",
      "source": [
        "#List\n",
        "numbers = [1, 2, 3, 4, 5]\n",
        "print(3 in numbers)   # True\n",
        "print(6 in numbers)   # False\n"
      ],
      "metadata": {
        "colab": {
          "base_uri": "https://localhost:8080/"
        },
        "id": "ttiBLJBOueWw",
        "outputId": "f91350cd-875a-4032-b7de-3a9fb3e3d1de"
      },
      "execution_count": null,
      "outputs": [
        {
          "output_type": "stream",
          "name": "stdout",
          "text": [
            "True\n",
            "False\n"
          ]
        }
      ]
    },
    {
      "cell_type": "code",
      "source": [
        "#Dicitionaries\n",
        "student = {\"name\": \"Mahesh\", \"age\": 21, \"city\": \"Chennai\"}\n",
        "print(\"name\" in student)    # True (checks key)\n",
        "print(\"Mahesh\" in student)  # False (value is ignored)\n"
      ],
      "metadata": {
        "colab": {
          "base_uri": "https://localhost:8080/"
        },
        "id": "IAkHY5IavG_k",
        "outputId": "c1fb5ac4-d795-4a75-dd66-b22ea659cef1"
      },
      "execution_count": null,
      "outputs": [
        {
          "output_type": "stream",
          "name": "stdout",
          "text": [
            "True\n",
            "False\n"
          ]
        }
      ]
    },
    {
      "cell_type": "markdown",
      "source": [
        "15.Can you modify the elements of a tuple? Explain why or why not\n",
        "  - No, you cannot modify the elements of a tuple directly.\n",
        "    - Tuples in Python are immutable, which means once a tuple is created, its contents cannot be changed, added, or removed.\n",
        "     - Any attempt to modify a tuple will result in a TypeError.\n",
        "  - Why Tuples Are Immutable\n",
        "    - Data Integrity – Ensures the data cannot be accidentally changed.\n",
        "    - Hashable – Tuples can be used as dictionary keys or elements of a set (lists cannot).\n",
        "    - Performance – Immutable objects are faster and require less memory because Python can optimize them.   \n",
        "  - Important Note\n",
        "\n",
        "    - If a tuple contains a mutable object (like a list), the mutable object inside can be changed, but the tuple itself cannot be reassigned.  "
      ],
      "metadata": {
        "id": "tq4JQjd_vYJB"
      }
    },
    {
      "cell_type": "code",
      "source": [
        "#Example of Immutability\n",
        "point = (10, 20, 30)\n",
        "point[0] = 100   # Trying to change an element\n"
      ],
      "metadata": {
        "colab": {
          "base_uri": "https://localhost:8080/",
          "height": 176
        },
        "id": "57bhkD2gvRTA",
        "outputId": "6d76fac4-96aa-4276-b994-16279644238c"
      },
      "execution_count": null,
      "outputs": [
        {
          "output_type": "error",
          "ename": "TypeError",
          "evalue": "'tuple' object does not support item assignment",
          "traceback": [
            "\u001b[0;31m---------------------------------------------------------------------------\u001b[0m",
            "\u001b[0;31mTypeError\u001b[0m                                 Traceback (most recent call last)",
            "\u001b[0;32m/tmp/ipython-input-1757488062.py\u001b[0m in \u001b[0;36m<cell line: 0>\u001b[0;34m()\u001b[0m\n\u001b[1;32m      1\u001b[0m \u001b[0;31m#\u001b[0m\u001b[0;34m\u001b[0m\u001b[0;34m\u001b[0m\u001b[0m\n\u001b[1;32m      2\u001b[0m \u001b[0mpoint\u001b[0m \u001b[0;34m=\u001b[0m \u001b[0;34m(\u001b[0m\u001b[0;36m10\u001b[0m\u001b[0;34m,\u001b[0m \u001b[0;36m20\u001b[0m\u001b[0;34m,\u001b[0m \u001b[0;36m30\u001b[0m\u001b[0;34m)\u001b[0m\u001b[0;34m\u001b[0m\u001b[0;34m\u001b[0m\u001b[0m\n\u001b[0;32m----> 3\u001b[0;31m \u001b[0mpoint\u001b[0m\u001b[0;34m[\u001b[0m\u001b[0;36m0\u001b[0m\u001b[0;34m]\u001b[0m \u001b[0;34m=\u001b[0m \u001b[0;36m100\u001b[0m\u001b[0;34m\u001b[0m\u001b[0;34m\u001b[0m\u001b[0m\n\u001b[0m",
            "\u001b[0;31mTypeError\u001b[0m: 'tuple' object does not support item assignment"
          ]
        }
      ]
    },
    {
      "cell_type": "markdown",
      "source": [
        "16.What is a nested dictionary, and give an example of its use case\n",
        "  - A nested dictionary is a dictionary where the value of a key is another dictionary.\n",
        "\n",
        "    - It’s like having dictionaries inside dictionaries.\n",
        "\n",
        "    - Useful for storing structured, hierarchical data.\n",
        "  - Why Use Nested Dictionaries?\n",
        "\n",
        "    - Organized Hierarchical Data\n",
        "\n",
        "      - Store related information under a single key.\n",
        "\n",
        "    - Easy Access\n",
        "\n",
        "      - Quickly access specific details using multiple keys.\n",
        "\n",
        "    - Flexible & Dynamic\n",
        "\n",
        "      - You can add or remove entire sub-dictionaries as needed.  "
      ],
      "metadata": {
        "id": "d2lRTyotwUyq"
      }
    },
    {
      "cell_type": "code",
      "source": [
        "#Example\n",
        "students = {\n",
        "    \"student1\": {\"name\": \"Mahesh\", \"age\": 21, \"city\": \"Chennai\"},\n",
        "    \"student2\": {\"name\": \"Anita\", \"age\": 22, \"city\": \"Bangalore\"},\n",
        "    \"student3\": {\"name\": \"Ravi\", \"age\": 20, \"city\": \"Mumbai\"}\n",
        "}\n",
        "# Accessing data\n",
        "print(students[\"student1\"][\"name\"])  # Mahesh\n",
        "print(students[\"student2\"][\"city\"])  # Bangalore\n"
      ],
      "metadata": {
        "colab": {
          "base_uri": "https://localhost:8080/"
        },
        "id": "W_DrieATwBfa",
        "outputId": "6e9dbfae-b76f-4950-8808-61bde5c3b6ed"
      },
      "execution_count": null,
      "outputs": [
        {
          "output_type": "stream",
          "name": "stdout",
          "text": [
            "Mahesh\n",
            "Bangalore\n"
          ]
        }
      ]
    },
    {
      "cell_type": "markdown",
      "source": [
        "17.Describe the time complexity of accessing elements in a dictionary\n",
        "  - A Python dictionary is implemented using a hash table, which allows very fast access to elements.\n",
        "\n",
        "    - Accessing a value by key (e.g., my_dict[key]) is typically O(1) — constant time.\n",
        "\n",
        "    - This means that no matter how many items are in the dictionary, Python can retrieve the value almost instantly.\n",
        "  - Why It’s O(1)\n",
        "\n",
        "    - When a key is added, Python computes its hash value.\n",
        "\n",
        "    - The hash value determines the exact memory location where the value is stored.\n",
        "\n",
        "    - When you access the key later, Python recalculates the hash and jumps directly to that location.  "
      ],
      "metadata": {
        "id": "c3sg2WCVw9zQ"
      }
    },
    {
      "cell_type": "code",
      "source": [
        "#Example\n",
        "student = {\"name\": \"Mahesh\", \"age\": 21, \"city\": \"Chennai\"}\n",
        "# Accessing elements\n",
        "print(student[\"name\"])  # O(1)\n",
        "print(student[\"age\"])   # O(1)\n"
      ],
      "metadata": {
        "colab": {
          "base_uri": "https://localhost:8080/"
        },
        "id": "Z6Sc0tTIw5Rx",
        "outputId": "a09436be-8127-4fa2-ed1c-f799928112b5"
      },
      "execution_count": null,
      "outputs": [
        {
          "output_type": "stream",
          "name": "stdout",
          "text": [
            "Mahesh\n",
            "21\n"
          ]
        }
      ]
    },
    {
      "cell_type": "markdown",
      "source": [
        "18.In what situations are lists preferred over dictionaries\n",
        "  - Ordered Collections\n",
        "\n",
        "    - Lists maintain the order of elements, which is useful when the sequence matters.\n",
        "\n",
        "    - Dictionaries (before Python 3.7) were unordered, though now they preserve insertion order, but lists are simpler when you only care about order.\n",
        "  - Simple Sequential Data\n",
        "\n",
        "     - When you just need a sequence of items without key-value mapping.\n",
        "\n",
        "     - Example: storing daily temperatures, shopping items, or steps in a process.  \n",
        "  - Iteration Over All Items\n",
        "\n",
        "    - Iterating over a list is simpler and often faster when you need to process every element in order.\n",
        "\n",
        "    - Dictionaries require you to access either keys or values.\n",
        "  - When Keys Are Not Needed\n",
        "\n",
        "    - If your data doesn’t have a natural key–value relationship, a list is simpler and cleaner.     "
      ],
      "metadata": {
        "id": "wFhfAJwlxnEp"
      }
    },
    {
      "cell_type": "markdown",
      "source": [
        "19.Why are dictionaries considered unordered, and how does that affect data retrieval\n",
        "  - Dictionary Structure\n",
        "\n",
        "    - Python dictionaries store key–value pairs using a hash table.\n",
        "\n",
        "    - Each key is hashed to determine its storage location in memory.\n",
        "\n",
        "    - This means the order in which you add items does not determine where they are stored.\n",
        "\n",
        "  - Historical Context\n",
        "\n",
        "    - Before Python 3.7, dictionaries were officially unordered.\n",
        "\n",
        "    - From Python 3.7 onwards, dictionaries preserve insertion order, but they are still conceptually unordered because their internal storage relies on hashing, not sequential placement.\n",
        "  - How This Affects Data Retrieval\n",
        "\n",
        "    - Fast Access by Key\n",
        "\n",
        "       - Since dictionaries use hashing, you don’t need to search sequentially.\n",
        "\n",
        "      - Accessing a value by key is very fast (O(1)), regardless of insertion order.\n",
        "   - Iteration Order vs Internal Order\n",
        "\n",
        "     - Iterating over a dictionary using a loop will give items in insertion order (Python 3.7+).\n",
        "\n",
        "      - But internally, the hash table doesn’t rely on order, which is why you cannot rely on ordering for algorithms that need sequential positioning.\n",
        "\n",
        "   - No Indexing\n",
        "\n",
        "     - Unlike lists, you cannot access elements by position. You must use keys.\n",
        "    \n",
        "   "
      ],
      "metadata": {
        "id": "QqBTCPg4yU5h"
      }
    },
    {
      "cell_type": "markdown",
      "source": [
        "20.Explain the difference between a list and a dictionary in terms of data retrieval.\n",
        "   - Lists\n",
        "\n",
        "     - A list stores elements in a specific order and each element has an index (starting from 0).\n",
        "\n",
        "     - To retrieve an element, you can use its index.\n",
        "\n",
        "      - Searching for a value without knowing its index requires scanning the list, which is slower for large lists.\n",
        "   - Dictionaries\n",
        "\n",
        "     - A dictionary stores data as key–value pairs.\n",
        "\n",
        "     - To retrieve a value, you use its key, not a numerical index.\n",
        "\n",
        "     - Dictionaries use a hash table internally, so access by key is very fast (O(1)), regardless of the dictionary’s size.   "
      ],
      "metadata": {
        "id": "XtaUk7VZzg5I"
      }
    },
    {
      "cell_type": "code",
      "source": [
        "# List example\n",
        "numbers = [10, 20, 30, 40]\n",
        "print(numbers[2])       # Access by index → 30\n",
        "print(30 in numbers)    # Searches sequentially → slower\n"
      ],
      "metadata": {
        "colab": {
          "base_uri": "https://localhost:8080/"
        },
        "id": "MdJR8l3czgJ9",
        "outputId": "d4190abd-c8a8-4933-8508-1dbca534fa43"
      },
      "execution_count": null,
      "outputs": [
        {
          "output_type": "stream",
          "name": "stdout",
          "text": [
            "30\n",
            "True\n"
          ]
        }
      ]
    },
    {
      "cell_type": "code",
      "source": [
        "# Dictionary example\n",
        "student = {\"name\": \"Mahesh\", \"age\": 21, \"city\": \"Chennai\"}\n",
        "print(student[\"age\"])     # Access by key → 21\n",
        "print(\"Mahesh\" in student.values())  # Search by value → slower\n"
      ],
      "metadata": {
        "id": "m0zeuAMmz-VO",
        "outputId": "872f58b4-38d0-4295-fc6b-524aad9ebfb3",
        "colab": {
          "base_uri": "https://localhost:8080/"
        }
      },
      "execution_count": null,
      "outputs": [
        {
          "output_type": "stream",
          "name": "stdout",
          "text": [
            "21\n",
            "True\n"
          ]
        }
      ]
    },
    {
      "cell_type": "markdown",
      "source": [
        "# ***Partical***"
      ],
      "metadata": {
        "id": "3HQ6S-1-t3LF"
      }
    },
    {
      "cell_type": "code",
      "source": [
        "#1.Write a code to create a string with your name and print it\n",
        "name = \"Mahesh\"\n",
        "print(name)"
      ],
      "metadata": {
        "id": "7wMrI7zD0AyE",
        "colab": {
          "base_uri": "https://localhost:8080/"
        },
        "outputId": "e61a93e4-afc1-4a94-fb92-3f8cb4a6c18a"
      },
      "execution_count": null,
      "outputs": [
        {
          "output_type": "stream",
          "name": "stdout",
          "text": [
            "Mahesh\n"
          ]
        }
      ]
    },
    {
      "cell_type": "code",
      "source": [
        "#2.Write a code to find the length of the string \"Hello World\"\n",
        "text = \"Hello World\"\n",
        "len(text)"
      ],
      "metadata": {
        "colab": {
          "base_uri": "https://localhost:8080/"
        },
        "id": "07Ol3KRcucdb",
        "outputId": "a9af608d-1668-4763-f5e4-416627215619"
      },
      "execution_count": null,
      "outputs": [
        {
          "output_type": "execute_result",
          "data": {
            "text/plain": [
              "11"
            ]
          },
          "metadata": {},
          "execution_count": 3
        }
      ]
    },
    {
      "cell_type": "code",
      "source": [
        "#3.Write a code to slice the first 3 characters from the string \"Python Programming\"\n",
        "text = \"Python Programming\"\n",
        "text[0:3]"
      ],
      "metadata": {
        "colab": {
          "base_uri": "https://localhost:8080/",
          "height": 35
        },
        "id": "bwTfdeX2uo-y",
        "outputId": "85b81b51-cbde-44b5-846f-aacae5aa63f6"
      },
      "execution_count": null,
      "outputs": [
        {
          "output_type": "execute_result",
          "data": {
            "text/plain": [
              "'Pyt'"
            ],
            "application/vnd.google.colaboratory.intrinsic+json": {
              "type": "string"
            }
          },
          "metadata": {},
          "execution_count": 4
        }
      ]
    },
    {
      "cell_type": "code",
      "source": [
        "#4.Write a code to convert the string \"hello\" to uppercase\n",
        "text = \"hello\"\n",
        "text.upper()"
      ],
      "metadata": {
        "colab": {
          "base_uri": "https://localhost:8080/",
          "height": 35
        },
        "id": "KUMlIsDuu7-X",
        "outputId": "6b2c2310-1966-4db4-af06-191ac92df15e"
      },
      "execution_count": null,
      "outputs": [
        {
          "output_type": "execute_result",
          "data": {
            "text/plain": [
              "'HELLO'"
            ],
            "application/vnd.google.colaboratory.intrinsic+json": {
              "type": "string"
            }
          },
          "metadata": {},
          "execution_count": 6
        }
      ]
    },
    {
      "cell_type": "code",
      "source": [
        "#5.Write a code to replace the word \"apple\" with \"orange\" in the string \"I like apple\"\n",
        "text = \"I like apple\"\n",
        "text.replace(\"apple\", \"orange\")\n",
        "\n"
      ],
      "metadata": {
        "colab": {
          "base_uri": "https://localhost:8080/",
          "height": 35
        },
        "id": "tzICsLk5vOCr",
        "outputId": "cf621020-269a-4f60-fdb1-4d50b0461536"
      },
      "execution_count": null,
      "outputs": [
        {
          "output_type": "execute_result",
          "data": {
            "text/plain": [
              "'I like orange'"
            ],
            "application/vnd.google.colaboratory.intrinsic+json": {
              "type": "string"
            }
          },
          "metadata": {},
          "execution_count": 9
        }
      ]
    },
    {
      "cell_type": "code",
      "source": [
        "#6.Write a code to create a list with numbers 1 to 5 and print it\n",
        "number = [1, 2, 3, 4, 5]\n",
        "print(number)"
      ],
      "metadata": {
        "colab": {
          "base_uri": "https://localhost:8080/"
        },
        "id": "WZWPBnbIvz-i",
        "outputId": "cc360376-92ff-4e11-8759-eb3bc879f495"
      },
      "execution_count": null,
      "outputs": [
        {
          "output_type": "stream",
          "name": "stdout",
          "text": [
            "[1, 2, 3, 4, 5]\n"
          ]
        }
      ]
    },
    {
      "cell_type": "code",
      "source": [
        "#7.Write a code to append the number 10 to the list [1, 2, 3, 4]\n",
        "number = [1, 2, 3, 4]\n",
        "number.append(10)\n",
        "print(number)\n"
      ],
      "metadata": {
        "colab": {
          "base_uri": "https://localhost:8080/"
        },
        "id": "j0GiomVfwWV6",
        "outputId": "aad4039f-038f-49b4-a6a6-7a7b077cabea"
      },
      "execution_count": null,
      "outputs": [
        {
          "output_type": "stream",
          "name": "stdout",
          "text": [
            "[1, 2, 3, 4, 10]\n"
          ]
        }
      ]
    },
    {
      "cell_type": "code",
      "source": [
        "#8.P Write a code to remove the number 3 from the list [1, 2, 3, 4, 5]\n",
        "number = [1, 2, 3, 4, 5]\n",
        "number.remove(3)\n",
        "print(number)"
      ],
      "metadata": {
        "colab": {
          "base_uri": "https://localhost:8080/"
        },
        "id": "SApjajSEwpqz",
        "outputId": "d7787427-a7d5-4d25-d041-8f4b8bdd6ba5"
      },
      "execution_count": null,
      "outputs": [
        {
          "output_type": "stream",
          "name": "stdout",
          "text": [
            "[1, 2, 4, 5]\n"
          ]
        }
      ]
    },
    {
      "cell_type": "code",
      "source": [
        "#9.Write a code to access the second element in the list ['a', 'b', 'c', 'd']\n",
        "text = ['a', 'b', 'c', 'd']\n",
        "text[1]"
      ],
      "metadata": {
        "colab": {
          "base_uri": "https://localhost:8080/",
          "height": 35
        },
        "id": "4sEPCzpvw7YM",
        "outputId": "a615fb8a-ae58-432b-b048-a78634b6bbac"
      },
      "execution_count": null,
      "outputs": [
        {
          "output_type": "execute_result",
          "data": {
            "text/plain": [
              "'b'"
            ],
            "application/vnd.google.colaboratory.intrinsic+json": {
              "type": "string"
            }
          },
          "metadata": {},
          "execution_count": 13
        }
      ]
    },
    {
      "cell_type": "code",
      "source": [
        "#10.Write a code to reverse the list [10, 20, 30, 40, 50]\n",
        "number = [10, 20, 30, 40, 50]\n",
        "number.reverse()\n",
        "print(number)"
      ],
      "metadata": {
        "colab": {
          "base_uri": "https://localhost:8080/"
        },
        "id": "BecmiAotxMyJ",
        "outputId": "e76b6414-cd97-4444-a416-e725e268c442"
      },
      "execution_count": null,
      "outputs": [
        {
          "output_type": "stream",
          "name": "stdout",
          "text": [
            "[50, 40, 30, 20, 10]\n"
          ]
        }
      ]
    },
    {
      "cell_type": "code",
      "source": [
        "#11.Write a code to create a tuple with the elements 100, 200, 300 and print it\n",
        "number = (100, 200, 300)\n",
        "print(number)"
      ],
      "metadata": {
        "colab": {
          "base_uri": "https://localhost:8080/"
        },
        "id": "ZGRme5epxnk6",
        "outputId": "18049277-dbda-480f-eb61-4fecd40f3f0f"
      },
      "execution_count": null,
      "outputs": [
        {
          "output_type": "stream",
          "name": "stdout",
          "text": [
            "(100, 200, 300)\n"
          ]
        }
      ]
    },
    {
      "cell_type": "code",
      "source": [
        "#12.Write a code to access the second-to-last element of the tuple ('red', 'green', 'blue', 'yellow')\n",
        "colour = ('red', 'green', 'blue', 'yellow')\n",
        "colour[-2]"
      ],
      "metadata": {
        "colab": {
          "base_uri": "https://localhost:8080/",
          "height": 35
        },
        "id": "VVkziz70x4vA",
        "outputId": "3c833897-a14b-4a29-9afb-83259ecaaaf8"
      },
      "execution_count": null,
      "outputs": [
        {
          "output_type": "execute_result",
          "data": {
            "text/plain": [
              "'blue'"
            ],
            "application/vnd.google.colaboratory.intrinsic+json": {
              "type": "string"
            }
          },
          "metadata": {},
          "execution_count": 17
        }
      ]
    },
    {
      "cell_type": "code",
      "source": [
        "#13.Write a code to find the minimum number in the tuple (10, 20, 5, 15)\n",
        "number = (10, 20, 5, 15)\n",
        "min(number)"
      ],
      "metadata": {
        "colab": {
          "base_uri": "https://localhost:8080/"
        },
        "id": "II3lsaJyyl2q",
        "outputId": "7a27acad-1eb5-480c-c72a-f01a5c718285"
      },
      "execution_count": null,
      "outputs": [
        {
          "output_type": "execute_result",
          "data": {
            "text/plain": [
              "5"
            ]
          },
          "metadata": {},
          "execution_count": 18
        }
      ]
    },
    {
      "cell_type": "code",
      "source": [
        "#14.. Write a code to find the index of the element \"cat\" in the tuple ('dog', 'cat', 'rabbit')\n",
        "animal = ('dog', 'cat', 'rabbit')\n",
        "animal.index('cat')"
      ],
      "metadata": {
        "colab": {
          "base_uri": "https://localhost:8080/"
        },
        "id": "Eib5CVGly9pY",
        "outputId": "bc37d41e-86ae-4367-c90c-931a1bf27b52"
      },
      "execution_count": null,
      "outputs": [
        {
          "output_type": "execute_result",
          "data": {
            "text/plain": [
              "1"
            ]
          },
          "metadata": {},
          "execution_count": 20
        }
      ]
    },
    {
      "cell_type": "code",
      "source": [
        "#15.Write a code to create a tuple containing three different fruits and check if \"kiwi\" is in it.\n",
        "\n",
        "fruits = (\"apple\", \"banana\", \"mango\")\n",
        "if \"kiwi\" in fruits:\n",
        "    print(\"Kiwi is in the tuple.\")\n",
        "else:\n",
        "    print(\"Kiwi is not in the tuple.\")\n"
      ],
      "metadata": {
        "colab": {
          "base_uri": "https://localhost:8080/"
        },
        "id": "ISGFQIqVzTX_",
        "outputId": "1da38b59-884a-43f2-c277-3677b6a7032a"
      },
      "execution_count": null,
      "outputs": [
        {
          "output_type": "stream",
          "name": "stdout",
          "text": [
            "Kiwi is not in the tuple.\n"
          ]
        }
      ]
    },
    {
      "cell_type": "code",
      "source": [
        "#16.Write a code to create a set with the elements 'a', 'b', 'c' and print it\n",
        "text = {'a', 'b', 'c'}\n",
        "print(text)"
      ],
      "metadata": {
        "colab": {
          "base_uri": "https://localhost:8080/"
        },
        "id": "LFaoJsAkzyDJ",
        "outputId": "5149c858-e1cf-4198-aebb-7fc02035f7b6"
      },
      "execution_count": null,
      "outputs": [
        {
          "output_type": "stream",
          "name": "stdout",
          "text": [
            "{'b', 'a', 'c'}\n"
          ]
        }
      ]
    },
    {
      "cell_type": "code",
      "source": [
        "#17.Write a code to clear all elements from the set {1, 2, 3, 4, 5}\n",
        "number = {1, 2, 3, 4, 5}\n",
        "number.clear()\n",
        "print(number)"
      ],
      "metadata": {
        "colab": {
          "base_uri": "https://localhost:8080/"
        },
        "id": "CMwj5ssY0Tvv",
        "outputId": "379af702-3dc5-4959-8eef-14bfcd6a5f70"
      },
      "execution_count": null,
      "outputs": [
        {
          "output_type": "stream",
          "name": "stdout",
          "text": [
            "set()\n"
          ]
        }
      ]
    },
    {
      "cell_type": "code",
      "source": [
        "#18.Write a code to remove the element 4 from the set {1, 2, 3, 4}\n",
        "number = {1, 2, 3, 4}\n",
        "number.remove(4)\n",
        "print(number)\n"
      ],
      "metadata": {
        "colab": {
          "base_uri": "https://localhost:8080/"
        },
        "id": "-VwrKE-g0jRG",
        "outputId": "09494f61-2dc3-4892-e9d6-02d91427702a"
      },
      "execution_count": null,
      "outputs": [
        {
          "output_type": "stream",
          "name": "stdout",
          "text": [
            "{1, 2, 3}\n"
          ]
        }
      ]
    },
    {
      "cell_type": "code",
      "source": [
        "#19.Write a code to find the union of two sets {1, 2, 3} and {3, 4, 5}\n",
        "set1 = {1, 2, 3}\n",
        "set2 = {3, 4, 5}\n",
        "set1.union(set2)"
      ],
      "metadata": {
        "colab": {
          "base_uri": "https://localhost:8080/"
        },
        "id": "20nU0ZSU03Mv",
        "outputId": "13cd8f28-9451-475e-fdd1-beec6aa4ea2b"
      },
      "execution_count": null,
      "outputs": [
        {
          "output_type": "execute_result",
          "data": {
            "text/plain": [
              "{1, 2, 3, 4, 5}"
            ]
          },
          "metadata": {},
          "execution_count": 27
        }
      ]
    },
    {
      "cell_type": "code",
      "source": [
        "#20.Write a code to find the intersection of two sets {1, 2, 3} and {2, 3, 4}\n",
        "set1 = {1, 2, 3}\n",
        "set2 = {2, 3, 4}\n",
        "set1.intersection(set2)"
      ],
      "metadata": {
        "colab": {
          "base_uri": "https://localhost:8080/"
        },
        "id": "DP34Rjdn1L2Y",
        "outputId": "ddd9d5b5-90cb-4e75-933b-0f2e20329003"
      },
      "execution_count": null,
      "outputs": [
        {
          "output_type": "execute_result",
          "data": {
            "text/plain": [
              "{2, 3}"
            ]
          },
          "metadata": {},
          "execution_count": 28
        }
      ]
    },
    {
      "cell_type": "code",
      "source": [
        "#21.Write a code to create a dictionary with the keys \"name\", \"age\", and \"city\", and print it\n",
        "student = {\"name\": \"Mahesh\", \"age\": 22, \"city\": \"odisha\"}\n",
        "print(student)"
      ],
      "metadata": {
        "colab": {
          "base_uri": "https://localhost:8080/"
        },
        "id": "sp3OGX_h1gqX",
        "outputId": "b6c6fcce-6a54-4258-d714-7a8f29a9cfe8"
      },
      "execution_count": null,
      "outputs": [
        {
          "output_type": "stream",
          "name": "stdout",
          "text": [
            "{'name': 'Mahesh', 'age': 22, 'city': 'odisha'}\n"
          ]
        }
      ]
    },
    {
      "cell_type": "code",
      "source": [
        "#22.Write a code to add a new key-value pair \"country\": \"USA\" to the dictionary {'name': 'John', 'age': 25}\n",
        "student = {'name': 'John', 'age': 25}\n",
        "student[\"country\"] = \"USA\"\n",
        "print(student)\n"
      ],
      "metadata": {
        "colab": {
          "base_uri": "https://localhost:8080/"
        },
        "id": "sFj_QoGo1qSG",
        "outputId": "dbf6e1f4-2d88-4197-deb3-4d0d82e7dbbf"
      },
      "execution_count": null,
      "outputs": [
        {
          "output_type": "stream",
          "name": "stdout",
          "text": [
            "{'name': 'John', 'age': 25, 'country': 'USA'}\n"
          ]
        }
      ]
    },
    {
      "cell_type": "code",
      "source": [
        "#23.Write a code to access the value associated with the key \"name\" in the dictionary {'name': 'Alice', 'age': 30}.\n",
        "student = {'name': 'Alice', 'age': 30}\n",
        "student[\"name\"]\n"
      ],
      "metadata": {
        "colab": {
          "base_uri": "https://localhost:8080/",
          "height": 35
        },
        "id": "dNYBH-3Y2BQP",
        "outputId": "6264835c-5dc0-4fb4-f295-c9de8bd017a7"
      },
      "execution_count": null,
      "outputs": [
        {
          "output_type": "execute_result",
          "data": {
            "text/plain": [
              "'Alice'"
            ],
            "application/vnd.google.colaboratory.intrinsic+json": {
              "type": "string"
            }
          },
          "metadata": {},
          "execution_count": 33
        }
      ]
    },
    {
      "cell_type": "code",
      "source": [
        "#24.Write a code to remove the key \"age\" from the dictionary {'name': 'Bob', 'age': 22, 'city': 'New York'}\n",
        "student = {'name': 'Bob', 'age': 22, 'city': 'New York'}\n",
        "del student[\"age\"]\n",
        "print(student)"
      ],
      "metadata": {
        "colab": {
          "base_uri": "https://localhost:8080/"
        },
        "id": "6fmZEdZV2H--",
        "outputId": "c1b58eb9-d231-41f0-e7ee-1aa7e91d1384"
      },
      "execution_count": null,
      "outputs": [
        {
          "output_type": "stream",
          "name": "stdout",
          "text": [
            "{'name': 'Bob', 'city': 'New York'}\n"
          ]
        }
      ]
    },
    {
      "cell_type": "code",
      "source": [
        "#25.Write a code to check if the key \"city\" exists in the dictionary {'name': 'Alice', 'city': 'Paris'}.\n",
        "student = {'name': 'Alice', 'city': 'Paris'}\n",
        "if \"city\" in student:\n",
        "    print(\"City exists in the dictionary.\")\n",
        "else:\n",
        "    print(\"City does not exist in the dictionary.\")"
      ],
      "metadata": {
        "colab": {
          "base_uri": "https://localhost:8080/"
        },
        "id": "INe2DW5w2Oxm",
        "outputId": "f5bbf504-ae6c-43ec-efb6-88bb817d7eb5"
      },
      "execution_count": null,
      "outputs": [
        {
          "output_type": "stream",
          "name": "stdout",
          "text": [
            "City exists in the dictionary.\n"
          ]
        }
      ]
    },
    {
      "cell_type": "code",
      "source": [
        "#26.. Write a code to create a list, a tuple, and a dictionary, and print them all.\n",
        "# Creating a list\n",
        "my_list = [1, 2, 3, 4, 5]\n",
        "# Creating a tuple\n",
        "my_tuple = (\"apple\", \"banana\", \"cherry\")\n",
        "# Creating a dictionary\n",
        "my_dict = {\"name\": \"Alice\", \"age\": 25, \"city\": \"New York\"}\n",
        "# Printing them all\n",
        "print(\"List:\", my_list)\n",
        "print(\"Tuple:\", my_tuple)\n",
        "print(\"Dictionary:\", my_dict)\n"
      ],
      "metadata": {
        "colab": {
          "base_uri": "https://localhost:8080/"
        },
        "id": "CaeEbQ6P2ZUW",
        "outputId": "fabce2d1-2457-40e7-a86c-e6ae33dea6d4"
      },
      "execution_count": null,
      "outputs": [
        {
          "output_type": "stream",
          "name": "stdout",
          "text": [
            "List: [1, 2, 3, 4, 5]\n",
            "Tuple: ('apple', 'banana', 'cherry')\n",
            "Dictionary: {'name': 'Alice', 'age': 25, 'city': 'New York'}\n"
          ]
        }
      ]
    },
    {
      "cell_type": "code",
      "source": [
        "#27.Write a code to create a list of 5 random numbers between 1 and 100, sort it in ascending order, and print the result.(replaced)\n",
        "import random\n",
        "random_numbers = [random.randint(1, 100) for _ in range(5)]\n",
        "random_numbers.sort()\n",
        "print(random_numbers)\n",
        "\n"
      ],
      "metadata": {
        "colab": {
          "base_uri": "https://localhost:8080/"
        },
        "id": "K3MsIh5B2gPe",
        "outputId": "fdc87664-6f88-44c4-8b86-90a7ef2a2dac"
      },
      "execution_count": null,
      "outputs": [
        {
          "output_type": "stream",
          "name": "stdout",
          "text": [
            "[7, 7, 16, 27, 84]\n"
          ]
        }
      ]
    },
    {
      "cell_type": "code",
      "source": [
        "#28.Write a code to create a list with strings and print the element at the third index\n",
        "text = [\"apple\", \"banana\", \"cherry\", \"date\", \"elderberry\"]\n",
        "print(text[3])"
      ],
      "metadata": {
        "colab": {
          "base_uri": "https://localhost:8080/"
        },
        "id": "KDZ3CNox3Hy0",
        "outputId": "dcaf3a98-37e8-456a-ff07-60ce5415ea70"
      },
      "execution_count": null,
      "outputs": [
        {
          "output_type": "stream",
          "name": "stdout",
          "text": [
            "date\n"
          ]
        }
      ]
    },
    {
      "cell_type": "code",
      "source": [
        "#29.. Write a code to combine two dictionaries into one and print the result.\n",
        "dict1 = {'a': 1, 'b': 2}\n",
        "dict2 = {'c': 3, 'd': 4}\n",
        "combined_dict = {**dict1, **dict2}\n",
        "print(combined_dict)"
      ],
      "metadata": {
        "colab": {
          "base_uri": "https://localhost:8080/"
        },
        "id": "hcRHSKcQ3Pac",
        "outputId": "bd8d51f7-a2dd-4c18-98a1-3f37b2d4e9d3"
      },
      "execution_count": null,
      "outputs": [
        {
          "output_type": "stream",
          "name": "stdout",
          "text": [
            "{'a': 1, 'b': 2, 'c': 3, 'd': 4}\n"
          ]
        }
      ]
    },
    {
      "cell_type": "code",
      "source": [
        "#30.Write a code to convert a list of strings into a set.\n",
        "text = [\"apple\", \"banana\", \"cherry\", \"date\", \"elderberry\"]\n",
        "set_text = set(text)\n",
        "print(set_text)"
      ],
      "metadata": {
        "colab": {
          "base_uri": "https://localhost:8080/"
        },
        "id": "DC44wTqE3gQs",
        "outputId": "03a340e6-bfda-420e-e074-c4c9173ab1aa"
      },
      "execution_count": null,
      "outputs": [
        {
          "output_type": "stream",
          "name": "stdout",
          "text": [
            "{'apple', 'banana', 'elderberry', 'date', 'cherry'}\n"
          ]
        }
      ]
    },
    {
      "cell_type": "code",
      "source": [],
      "metadata": {
        "id": "3PjQ50j03vCE"
      },
      "execution_count": null,
      "outputs": []
    }
  ]
}